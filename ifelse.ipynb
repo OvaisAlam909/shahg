{
 "cells": [
  {
   "cell_type": "code",
   "execution_count": 11,
   "metadata": {},
   "outputs": [
    {
     "name": "stdout",
     "output_type": "stream",
     "text": [
      "do u have cnic ?yes\n",
      "he has valid cnic\n",
      "is ur name in the list ?no\n",
      "u can't cast vote!\n"
     ]
    }
   ],
   "source": [
    "user_cnic=(input(\"do u have cnic ?\").lower())\n",
    "if user_cnic=='yes':\n",
    "    print(\"he has valid cnic\")\n",
    "    voter_list=(input(\"is ur name in the list ?\").lower())\n",
    "    if voter_list=='yes':\n",
    "        print(\"u are a reg voter!\")\n",
    "        print(\"u can cast vote!\")\n",
    "    else:\n",
    "        print(\"u can't cast vote!\")\n",
    "else:\n",
    "    print(\"u cannot cast vote!\")"
   ]
  },
  {
   "cell_type": "code",
   "execution_count": 13,
   "metadata": {},
   "outputs": [
    {
     "name": "stdout",
     "output_type": "stream",
     "text": [
      "are u 18+  ?no\n",
      " age is too short\n"
     ]
    }
   ],
   "source": [
    "user=(input(\"are u 18+  ?\").lower())\n",
    "if user=='yes':\n",
    "    print(\"you allowed to enter\")\n",
    "    ticket=(input(\"do u have ticket ??\").lower())\n",
    "    if ticket=='yes':\n",
    "        print(\"u are registered !!!\")\n",
    "        print(\"u are eligible to see movie!\")\n",
    "    else:\n",
    "        print(\" there is no ticket\")\n",
    "else:\n",
    "    print(\" age is too short\")"
   ]
  },
  {
   "cell_type": "code",
   "execution_count": 18,
   "metadata": {},
   "outputs": [
    {
     "name": "stdout",
     "output_type": "stream",
     "text": [
      "do u have cnic ?yes\n",
      "u cannot cast vote!\n"
     ]
    }
   ],
   "source": [
    "user_cnic=(input(\"do u have cnic ?\").lower())\n",
    "if user_cnic=='yes' and voter_list=='yes':\n",
    "            print(\"u are a reg voter!\")\n",
    "            print(\"u can cast vote!\")\n",
    "    else:\n",
    "        print(\"u cannot cast vote!\")"
   ]
  },
  {
   "cell_type": "code",
   "execution_count": null,
   "metadata": {},
   "outputs": [],
   "source": []
  }
 ],
 "metadata": {
  "kernelspec": {
   "display_name": "Python 3",
   "language": "python",
   "name": "python3"
  },
  "language_info": {
   "codemirror_mode": {
    "name": "ipython",
    "version": 3
   },
   "file_extension": ".py",
   "mimetype": "text/x-python",
   "name": "python",
   "nbconvert_exporter": "python",
   "pygments_lexer": "ipython3",
   "version": "3.7.3"
  }
 },
 "nbformat": 4,
 "nbformat_minor": 2
}
